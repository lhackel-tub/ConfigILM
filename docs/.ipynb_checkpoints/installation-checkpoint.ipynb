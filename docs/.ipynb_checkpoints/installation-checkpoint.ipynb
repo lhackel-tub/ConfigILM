{
 "cells": [
  {
   "cell_type": "markdown",
   "source": [
    "# Installation\n",
    "\n",
    "This sections covers how to get started with `ConfigILM`.\n",
    "\n",
    "There are currently two ways of installing `ConfigILM`. The recommended way is using [pypi](https://pypi.org/) via"
   ],
   "metadata": {
    "collapsed": false
   }
  },
  {
   "cell_type": "code",
   "execution_count": null,
   "outputs": [],
   "source": [
    "# skip-execution\n",
    "!pip install configilm"
   ],
   "metadata": {
    "collapsed": false
   }
  },
  {
   "cell_type": "markdown",
   "source": [
    "Alternatively, the source can be directly downloaded from [github](https://github.com/lhackel-tub/ConfigILM). If you want to use the extras (e.g. Datasets), installation is `pip install configilm[extra]`.\n",
    "\n",
    ":::{note}\n",
    "Using the extras means installing some additional dependencies.\n",
    ":::\n",
    "\n",
    ":::{note}\n",
    "If you use the wheel, installation would equate to `pip install configilm-0.1.0-py3-none-any.whl` and `pip install configilm-0.1.0-py3-none-any.whl[extra]`\n",
    ":::\n",
    "\n",
    "`ConfigILM` allows you to easily combine and use predefined image and language models and use them for tasks such as [Supervised Pretraining](sup_pretraining.ipynb) or [VQA](vqa.ipynb).\n",
    "For this, models can be trained in an **end-to-end** fashion or **pre-trained checkpoints** can be used. How the configuration is set up is explained on the next page. Alternatively, use cases for this framework are presented on the following pages.\n",
    "\n",
    "For all examples in this documentation it is assumed that `ConfigILM` has been installed together with the `[extra]` dependencies.\n",
    "\n",
    "If you want to try out the framework's functionality, check out the [google colab](https://colab.research.google.com/drive/1ALBLQdn_NKd0ve7gwJtuNaUU3PgxEbMa?usp=sharing), which shows an example use case."
   ],
   "metadata": {
    "collapsed": false
   }
  }
 ],
 "metadata": {
  "kernelspec": {
   "display_name": "Python 3",
   "language": "python",
   "name": "python3"
  },
  "language_info": {
   "codemirror_mode": {
    "name": "ipython",
    "version": 2
   },
   "file_extension": ".py",
   "mimetype": "text/x-python",
   "name": "python",
   "nbconvert_exporter": "python",
   "pygments_lexer": "ipython2",
   "version": "2.7.6"
  }
 },
 "nbformat": 4,
 "nbformat_minor": 0
}
