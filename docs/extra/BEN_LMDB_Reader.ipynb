{
 "cells": [
  {
   "cell_type": "markdown",
   "metadata": {},
   "source": [
    "# Using the {{ben}} LMDB Reader\n",
    "In this section, an example of using the {{ben}} reader is shown. This converts the Lightning Memory-Mapped Database Manager ({{lmdb}}) used in the background as a database into an indexable Python object.\n",
    ":::{note}\n",
    "Due to its use of {{lmdb}}, which is not pickle-able, it is not thread safe to use this object after first access. However, using it only after forking is supported (e.g. access in `__getitem__` methods in a `pytorch dataset`).\n",
    ":::"
   ]
  },
  {
   "cell_type": "markdown",
   "metadata": {},
   "source": [
    "To use the reader, we have to create a `BENLMDBReader` object. This object needs 4 arguments for creation, namely the directory where the LMBD file is located as `string`, a sequence of 3 `ints` for the desired image size `(Channel, Height, Width)`, an indication of which bands are to be used and the label type to use."
   ]
  },
  {
   "cell_type": "code",
   "execution_count": 1,
   "outputs": [],
   "source": [
    "# remove-input\n",
    "# remove-output\n",
    "import matplotlib.pyplot as plt\n",
    "import pathlib\n",
    "from pprint import pprint\n",
    "\n",
    "my_data_path = str(pathlib.Path(\"\").resolve().parent.parent.joinpath(\"configilm\").joinpath(\"extra\").joinpath(\"mock_data\").joinpath(\"BigEarthNetEncoded.lmdb\").resolve(strict=True))\n"
   ],
   "metadata": {
    "collapsed": false,
    "ExecuteTime": {
     "start_time": "2023-04-12T16:56:04.779824Z",
     "end_time": "2023-04-12T16:56:04.992919Z"
    }
   }
  },
  {
   "cell_type": "code",
   "execution_count": 2,
   "metadata": {
    "tags": []
   },
   "outputs": [
    {
     "ename": "PackageNotFoundError",
     "evalue": "No package metadata was found for configilm",
     "output_type": "error",
     "traceback": [
      "\u001B[0;31m---------------------------------------------------------------------------\u001B[0m",
      "\u001B[0;31mPackageNotFoundError\u001B[0m                      Traceback (most recent call last)",
      "Cell \u001B[0;32mIn[2], line 2\u001B[0m\n\u001B[1;32m      1\u001B[0m \u001B[38;5;66;03m# remove-output\u001B[39;00m\n\u001B[0;32m----> 2\u001B[0m \u001B[38;5;28;01mfrom\u001B[39;00m \u001B[38;5;21;01mconfigilm\u001B[39;00m\u001B[38;5;21;01m.\u001B[39;00m\u001B[38;5;21;01mextra\u001B[39;00m\u001B[38;5;21;01m.\u001B[39;00m\u001B[38;5;21;01mBEN_lmdb_utils\u001B[39;00m \u001B[38;5;28;01mimport\u001B[39;00m BENLMDBReader\n\u001B[1;32m      4\u001B[0m BEN_reader \u001B[38;5;241m=\u001B[39m BENLMDBReader(\n\u001B[1;32m      5\u001B[0m         lmdb_dir\u001B[38;5;241m=\u001B[39mmy_data_path,  \u001B[38;5;66;03m# path to dataset\u001B[39;00m\n\u001B[1;32m      6\u001B[0m         image_size\u001B[38;5;241m=\u001B[39m(\u001B[38;5;241m3\u001B[39m, \u001B[38;5;241m120\u001B[39m, \u001B[38;5;241m120\u001B[39m),\n\u001B[1;32m      7\u001B[0m         bands\u001B[38;5;241m=\u001B[39m\u001B[38;5;124m\"\u001B[39m\u001B[38;5;124mRGB\u001B[39m\u001B[38;5;124m\"\u001B[39m,\n\u001B[1;32m      8\u001B[0m         label_type\u001B[38;5;241m=\u001B[39m\u001B[38;5;124m\"\u001B[39m\u001B[38;5;124mold\u001B[39m\u001B[38;5;124m\"\u001B[39m,\n\u001B[1;32m      9\u001B[0m     )\n\u001B[1;32m     10\u001B[0m img, lbl \u001B[38;5;241m=\u001B[39m BEN_reader[\u001B[38;5;124m\"\u001B[39m\u001B[38;5;124mS2B_MSIL2A_20180502T093039_82_40\u001B[39m\u001B[38;5;124m\"\u001B[39m]\n",
      "File \u001B[0;32m~/Documents/development/ConfigVLM/configilm/__init__.py:3\u001B[0m\n\u001B[1;32m      1\u001B[0m \u001B[38;5;28;01mimport\u001B[39;00m \u001B[38;5;21;01mimportlib\u001B[39;00m\u001B[38;5;21;01m.\u001B[39;00m\u001B[38;5;21;01mmetadata\u001B[39;00m\n\u001B[0;32m----> 3\u001B[0m __version__ \u001B[38;5;241m=\u001B[39m \u001B[43mimportlib\u001B[49m\u001B[38;5;241;43m.\u001B[39;49m\u001B[43mmetadata\u001B[49m\u001B[38;5;241;43m.\u001B[39;49m\u001B[43mversion\u001B[49m\u001B[43m(\u001B[49m\u001B[38;5;124;43m\"\u001B[39;49m\u001B[38;5;124;43mconfigilm\u001B[39;49m\u001B[38;5;124;43m\"\u001B[39;49m\u001B[43m)\u001B[49m\n",
      "File \u001B[0;32m/usr/lib/python3.10/importlib/metadata/__init__.py:984\u001B[0m, in \u001B[0;36mversion\u001B[0;34m(distribution_name)\u001B[0m\n\u001B[1;32m    977\u001B[0m \u001B[38;5;28;01mdef\u001B[39;00m \u001B[38;5;21mversion\u001B[39m(distribution_name):\n\u001B[1;32m    978\u001B[0m \u001B[38;5;250m    \u001B[39m\u001B[38;5;124;03m\"\"\"Get the version string for the named package.\u001B[39;00m\n\u001B[1;32m    979\u001B[0m \n\u001B[1;32m    980\u001B[0m \u001B[38;5;124;03m    :param distribution_name: The name of the distribution package to query.\u001B[39;00m\n\u001B[1;32m    981\u001B[0m \u001B[38;5;124;03m    :return: The version string for the package as defined in the package's\u001B[39;00m\n\u001B[1;32m    982\u001B[0m \u001B[38;5;124;03m        \"Version\" metadata key.\u001B[39;00m\n\u001B[1;32m    983\u001B[0m \u001B[38;5;124;03m    \"\"\"\u001B[39;00m\n\u001B[0;32m--> 984\u001B[0m     \u001B[38;5;28;01mreturn\u001B[39;00m \u001B[43mdistribution\u001B[49m\u001B[43m(\u001B[49m\u001B[43mdistribution_name\u001B[49m\u001B[43m)\u001B[49m\u001B[38;5;241m.\u001B[39mversion\n",
      "File \u001B[0;32m/usr/lib/python3.10/importlib/metadata/__init__.py:957\u001B[0m, in \u001B[0;36mdistribution\u001B[0;34m(distribution_name)\u001B[0m\n\u001B[1;32m    951\u001B[0m \u001B[38;5;28;01mdef\u001B[39;00m \u001B[38;5;21mdistribution\u001B[39m(distribution_name):\n\u001B[1;32m    952\u001B[0m \u001B[38;5;250m    \u001B[39m\u001B[38;5;124;03m\"\"\"Get the ``Distribution`` instance for the named package.\u001B[39;00m\n\u001B[1;32m    953\u001B[0m \n\u001B[1;32m    954\u001B[0m \u001B[38;5;124;03m    :param distribution_name: The name of the distribution package as a string.\u001B[39;00m\n\u001B[1;32m    955\u001B[0m \u001B[38;5;124;03m    :return: A ``Distribution`` instance (or subclass thereof).\u001B[39;00m\n\u001B[1;32m    956\u001B[0m \u001B[38;5;124;03m    \"\"\"\u001B[39;00m\n\u001B[0;32m--> 957\u001B[0m     \u001B[38;5;28;01mreturn\u001B[39;00m \u001B[43mDistribution\u001B[49m\u001B[38;5;241;43m.\u001B[39;49m\u001B[43mfrom_name\u001B[49m\u001B[43m(\u001B[49m\u001B[43mdistribution_name\u001B[49m\u001B[43m)\u001B[49m\n",
      "File \u001B[0;32m/usr/lib/python3.10/importlib/metadata/__init__.py:548\u001B[0m, in \u001B[0;36mDistribution.from_name\u001B[0;34m(cls, name)\u001B[0m\n\u001B[1;32m    546\u001B[0m         \u001B[38;5;28;01mreturn\u001B[39;00m dist\n\u001B[1;32m    547\u001B[0m \u001B[38;5;28;01melse\u001B[39;00m:\n\u001B[0;32m--> 548\u001B[0m     \u001B[38;5;28;01mraise\u001B[39;00m PackageNotFoundError(name)\n",
      "\u001B[0;31mPackageNotFoundError\u001B[0m: No package metadata was found for configilm"
     ]
    }
   ],
   "source": [
    "# remove-output\n",
    "from configilm.extra.BEN_lmdb_utils import BENLMDBReader\n",
    "\n",
    "BEN_reader = BENLMDBReader(\n",
    "        lmdb_dir=my_data_path,  # path to dataset\n",
    "        image_size=(3, 120, 120),\n",
    "        bands=\"RGB\",\n",
    "        label_type=\"old\",\n",
    "    )\n",
    "img, lbl = BEN_reader[\"S2B_MSIL2A_20180502T093039_82_40\"]"
   ]
  },
  {
   "cell_type": "markdown",
   "metadata": {},
   "source": [
    "We are expecting this object to contain images of size `3x120x120` in RGB, annotated with the \"old\" 43-label version. Images are delivered as `torch tensors` and labels as a `list of strings`."
   ]
  },
  {
   "cell_type": "code",
   "execution_count": null,
   "metadata": {
    "tags": []
   },
   "outputs": [],
   "source": [
    "# remove-input\n",
    "print(f\"Size: {img.shape}\")\n",
    "print(\"Labels:\")\n",
    "pprint(lbl)\n",
    "# images are 12 bit of radiometric resolution, so to display simply divide by 2^12\n",
    "# this will not be the best way of displaying but enough as a showcase\n",
    "img /= 2**12\n",
    "\n",
    "_ = plt.imshow(img.permute(1, 2, 0))\n",
    "plt.axis('off')\n",
    "plt.show()"
   ]
  },
  {
   "cell_type": "markdown",
   "source": [
    "## Selecting Bands\n",
    "If we now are interested in the vegetation index for example, we can specifically create a reader that only returns the Bands B8 and B4 as needed for the Index.\n",
    "\n",
    "The vegetation index is defined as\n",
    "$\n",
    "\\begin{align*}\n",
    "    VI = \\frac{B08 - B04}{B08 + B04}\n",
    "\\end{align*}\n",
    "$"
   ],
   "metadata": {
    "collapsed": false
   }
  },
  {
   "cell_type": "code",
   "execution_count": null,
   "outputs": [],
   "source": [
    "BEN_reader = BENLMDBReader(\n",
    "        lmdb_dir=my_data_path,  # path to dataset\n",
    "        image_size=(2, 120, 120),\n",
    "        bands=[\"B08\", \"B04\"],\n",
    "        label_type=\"old\",\n",
    "    )\n",
    "img, lbl = BEN_reader[\"S2B_MSIL2A_20180502T093039_82_40\"]\n",
    "veg_idx = (img[0]-img[1])/(img[0]+img[1])"
   ],
   "metadata": {
    "collapsed": false
   }
  },
  {
   "cell_type": "markdown",
   "source": [
    "The images returned from this reader will have Band 08 in dimension 0 and Band 04 in dimension 1 like the order specified in the parameter. Note, that the image size also has to be set to `(2, ...)`, as this is used to check the size after interpolation. Interpolation is already applied in the `Loader` using `torch.nn.functional.interpolate()` with aligned corners in bicubic mode."
   ],
   "metadata": {
    "collapsed": false
   }
  },
  {
   "cell_type": "code",
   "execution_count": null,
   "outputs": [],
   "source": [
    "# remove-input\n",
    "veg_idx /= 2**12\n",
    "\n",
    "_ = plt.imshow(veg_idx)\n",
    "plt.axis('off')\n",
    "plt.show()"
   ],
   "metadata": {
    "collapsed": false
   }
  },
  {
   "cell_type": "markdown",
   "source": [
    "For ease of use there are some predefined configurations available that can be used without having to list all containing bands. The available pre-definitions and their respective bands are"
   ],
   "metadata": {
    "collapsed": false
   }
  },
  {
   "cell_type": "code",
   "execution_count": null,
   "outputs": [],
   "source": [
    "# remove-input\n",
    "from configilm.extra.BEN_lmdb_utils import BAND_COMBINATION_PREDEFINTIONS\n",
    "for k, v in BAND_COMBINATION_PREDEFINTIONS.items():\n",
    "    s = \"'\" if type(k) is str else \" \"\n",
    "    k = f\"{s}{k}{s}\"\n",
    "    print(f\"{k:>8}: {v}\")"
   ],
   "metadata": {
    "collapsed": false
   }
  },
  {
   "cell_type": "markdown",
   "source": [
    "## Label types\n",
    "We can also request the labels in the \"new\" 19-label version as introduced in {cite:t}`BEN19labels`. Here we see that the Label 'Water bodies' gets converted into 'Inland waters' as expected."
   ],
   "metadata": {
    "collapsed": false
   }
  },
  {
   "cell_type": "code",
   "execution_count": null,
   "outputs": [],
   "source": [
    "BEN_reader = BENLMDBReader(\n",
    "        lmdb_dir=my_data_path,  # path to dataset\n",
    "        image_size=(3, 120, 120),\n",
    "        bands=\"RGB\",\n",
    "        label_type=\"new\",\n",
    "    )\n",
    "img, lbl = BEN_reader[\"S2B_MSIL2A_20180502T093039_82_40\"]\n",
    "pprint(lbl)"
   ],
   "metadata": {
    "collapsed": false
   }
  },
  {
   "cell_type": "markdown",
   "source": [
    "If wished, the 19-label lists can also be converted into a 19-dimensional one-hot tensor. This guarantees a uniform conversion, so that each label vector always has the same sequence, regardless of the user."
   ],
   "metadata": {
    "collapsed": false
   }
  },
  {
   "cell_type": "code",
   "execution_count": null,
   "outputs": [],
   "source": [
    "from configilm.extra.BEN_lmdb_utils import ben19_list_to_onehot\n",
    "ben19_list_to_onehot(lbl)"
   ],
   "metadata": {
    "collapsed": false
   }
  },
  {
   "cell_type": "markdown",
   "source": [
    "## Mean and Standard Deviation\n",
    "The reader objects also collect mean and standard deviation during initialization based on the chosen band configuration."
   ],
   "metadata": {
    "collapsed": false
   }
  },
  {
   "cell_type": "code",
   "execution_count": null,
   "outputs": [],
   "source": [
    "BEN_reader_1 = BENLMDBReader(\n",
    "        lmdb_dir=my_data_path,  # path to dataset\n",
    "        image_size=(2, 120, 120),\n",
    "        bands=[\"B08\", \"B04\"],\n",
    "        label_type=\"old\",\n",
    "    )\n",
    "print(f\"Mean 1: {BEN_reader_1.mean}\")\n",
    "print(f\" Std 1: {BEN_reader_1.std}\")\n",
    "\n",
    "BEN_reader_2 = BENLMDBReader(\n",
    "        lmdb_dir=my_data_path,  # path to dataset\n",
    "        image_size=(3, 120, 120),\n",
    "        bands=[\"B04\", \"B01\", \"B8A\"],\n",
    "        label_type=\"old\",\n",
    "    )\n",
    "print(f\"Mean 2: {BEN_reader_2.mean}\")\n",
    "print(f\" Std 2: {BEN_reader_2.std}\")"
   ],
   "metadata": {
    "collapsed": false
   }
  }
 ],
 "metadata": {
  "kernelspec": {
   "display_name": "Python 3 (ipykernel)",
   "language": "python",
   "name": "python3"
  },
  "language_info": {
   "codemirror_mode": {
    "name": "ipython",
    "version": 3
   },
   "file_extension": ".py",
   "mimetype": "text/x-python",
   "name": "python",
   "nbconvert_exporter": "python",
   "pygments_lexer": "ipython3",
   "version": "3.10.6"
  }
 },
 "nbformat": 4,
 "nbformat_minor": 4
}
