{
 "cells": [
  {
   "cell_type": "markdown",
   "id": "380fa46935d60943",
   "metadata": {},
   "source": [
    "# Throughput testing\n",
    "\n",
    "During development of new models it is often useful to test the throughput of the data pipeline. To enable this, ConfigILM provides a ThroughputTest_DataModule and a corresponding ThroughputTestDataset. These datasets don't load any actual data, but instead generate a single dummy sample during initialization and return it for each call to `__getitem__()`. The fake length of the dataset can be set with the num_samples parameter."
   ]
  },
  {
   "cell_type": "markdown",
   "id": "9d15ddafc59490f2",
   "metadata": {},
   "source": [
    "## Preparing the model\n",
    "\n",
    "To run the throughput test we first create the model and then pass the respective DataModule to the trainer. For more details on creating the model see [the page on VQA model creation](vqa.ipynb). The code here is almost identical with some reduced parts."
   ]
  },
  {
   "cell_type": "code",
   "execution_count": null,
   "id": "3bc4942698902f49",
   "metadata": {
    "collapsed": false,
    "is_executing": true,
    "tags": []
   },
   "outputs": [],
   "source": [
    "# remove-output\n",
    "# import packages\n",
    "try:\n",
    "    import lightning.pytorch as pl\n",
    "except ImportError:\n",
    "    import pytorch_lightning as pl\n",
    "import torch\n",
    "import torch.nn.functional as F\n",
    "from torch import optim\n",
    "\n",
    "from configilm import ConfigILM\n",
    "\n",
    "class LitVQAEncoder(pl.LightningModule):\n",
    "    \"\"\"\n",
    "    Wrapper around a pytorch module, allowing this module to be used in automatic\n",
    "    training with pytorch lightning.\n",
    "    Among other things, the wrapper allows us to do automatic training and removes the\n",
    "    need to manage data on different devices (e.g. GPU and CPU).\n",
    "    \"\"\"\n",
    "    def __init__(\n",
    "        self,\n",
    "        config: ConfigILM.ILMConfiguration,\n",
    "        lr: float = 1e-3,\n",
    "    ):\n",
    "        super().__init__()\n",
    "        self.lr = lr\n",
    "        self.config = config\n",
    "        self.model = ConfigILM.ConfigILM(config)\n",
    "        self.val_output_list = []\n",
    "        self.test_output_list = []\n",
    "\n",
    "    def _disassemble_batch(self, batch):\n",
    "        images, questions, labels = batch\n",
    "        # transposing tensor, needed for Huggingface-Dataloader combination\n",
    "        questions = torch.tensor(\n",
    "            [x.tolist() for x in questions], device=self.device\n",
    "        ).T.int()\n",
    "        return (images, questions), labels\n",
    "\n",
    "    def training_step(self, batch, batch_idx):\n",
    "        x, y = self._disassemble_batch(batch)\n",
    "        x_hat = self.model(x)\n",
    "        loss = F.binary_cross_entropy_with_logits(x_hat, y)\n",
    "        self.log(\"train/loss\", loss)\n",
    "        return {\"loss\": loss}\n",
    "\n",
    "    def configure_optimizers(self):\n",
    "        optimizer = optim.AdamW(self.parameters(), lr=self.lr, weight_decay=0.01)\n",
    "        return optimizer\n",
    "\n",
    "    # ============== NON-MANDATORY-FUNCTION ===============\n",
    "\n",
    "    def validation_step(self, batch, batch_idx):\n",
    "        x, y = self._disassemble_batch(batch)\n",
    "        x_hat = self.model(x)\n",
    "        loss = F.binary_cross_entropy_with_logits(x_hat, y)\n",
    "        self.val_output_list += [{\"loss\": loss, \"outputs\": x_hat, \"labels\": y}]\n",
    "\n",
    "    def on_validation_epoch_start(self):\n",
    "        super().on_validation_epoch_start()\n",
    "        self.val_output_list = []\n",
    "\n",
    "    def on_validation_epoch_end(self):\n",
    "        avg_loss = torch.stack([x[\"loss\"] for x in self.val_output_list]).mean()\n",
    "        self.log(\"val/loss\", avg_loss)\n",
    "\n",
    "    def test_step(self, batch, batch_idx):\n",
    "        x, y = self._disassemble_batch(batch)\n",
    "        x_hat = self.model(x)\n",
    "        loss = F.binary_cross_entropy_with_logits(x_hat, y)\n",
    "        self.test_output_list += [{\"loss\": loss, \"outputs\": x_hat, \"labels\": y}]\n",
    "\n",
    "    def on_test_epoch_start(self):\n",
    "        super().on_test_epoch_start()\n",
    "        self.test_output_list = []\n",
    "\n",
    "    def on_test_epoch_end(self):\n",
    "        avg_loss = torch.stack([x[\"loss\"] for x in self.test_output_list]).mean()\n",
    "        self.log(\"test/loss\", avg_loss)\n",
    "\n",
    "    def forward(self, batch):\n",
    "        # because we are a wrapper, we call the inner function manually\n",
    "        return self.model(batch)\n",
    "\n",
    "trainer = pl.Trainer(\n",
    "    max_epochs=4,\n",
    "    accelerator=\"auto\",\n",
    "    log_every_n_steps=1,\n",
    "    logger=False,\n",
    ")"
   ]
  },
  {
   "cell_type": "code",
   "execution_count": 2,
   "id": "initial_id",
   "metadata": {
    "is_executing": true,
    "tags": []
   },
   "outputs": [
    {
     "name": "stderr",
     "output_type": "stream",
     "text": [
      "/home/leonard/Documents/development/ConfigILM/configilm/ConfigILM.py:133: UserWarning: Keyword 'img_size' unknown. Trying to ignore and restart creation.\n",
      "  warnings.warn(f\"Keyword '{failed_kw}' unknown. Trying to ignore and restart creation.\")\n",
      "/home/leonard/Documents/development/ConfigILM/configilm/ConfigILM.py:107: UserWarning: Tokenizer was initialized pretrained\n",
      "  warnings.warn(\"Tokenizer was initialized pretrained\")\n"
     ]
    }
   ],
   "source": [
    "# remove-output\n",
    "from configilm.ConfigILM import ILMConfiguration, ILMType\n",
    "image_model_name = \"resnet18\"\n",
    "text_model_name = \"prajjwal1/bert-tiny\"\n",
    "number_of_channels = 12\n",
    "image_size = 120\n",
    "lr = 5e-4\n",
    "seq_len = 32\n",
    "classes = 25\n",
    "\n",
    "model_config = ILMConfiguration(\n",
    "    timm_model_name=image_model_name,\n",
    "    hf_model_name=text_model_name,\n",
    "    classes=classes,\n",
    "    image_size=image_size,\n",
    "    channels=number_of_channels,\n",
    "    network_type=ILMType.VQA_CLASSIFICATION,\n",
    "    max_sequence_length=seq_len,\n",
    ")\n",
    "model = LitVQAEncoder(config=model_config, lr=lr)"
   ]
  },
  {
   "cell_type": "markdown",
   "id": "623f5d4dab8fd2f4",
   "metadata": {},
   "source": [
    "## Running the Throughput Test\n",
    "Now the model is evaluated using the `ThroughputTestDataModule` instead of any real data. First we create the DataModule with the desired parameters"
   ]
  },
  {
   "cell_type": "code",
   "execution_count": 6,
   "id": "4191110b884ecb82",
   "metadata": {
    "collapsed": false,
    "tags": []
   },
   "outputs": [],
   "source": [
    "from configilm.extra.DataModules import ThroughputTest_DataModule\n",
    "dm = ThroughputTest_DataModule.VQAThroughputTestDataModule(\n",
    "    data_dirs={},  # parameter is ignored but required for compatibility with other DataModules in ConfigILM\n",
    "    img_size=(number_of_channels, image_size, image_size),\n",
    "    seq_length=seq_len,\n",
    "    num_samples=32*16,  # number of \"samples\" in this dataset -> each sample is the same one\n",
    "    batch_size=32,\n",
    "    num_classes=classes,\n",
    ")"
   ]
  },
  {
   "cell_type": "markdown",
   "id": "6e2c0fd7574cffd3",
   "metadata": {},
   "source": [
    "and then run the model using this fake DataModule and measure the throughput by iterating over the test set of the DataModule.\n",
    "We measure the throughput by measuring the time it takes to run the test set and then calculate the number of samples processed per second and related metrics."
   ]
  },
  {
   "cell_type": "code",
   "execution_count": 7,
   "id": "ba01b8185dc4e0d1",
   "metadata": {
    "collapsed": false,
    "tags": []
   },
   "outputs": [
    {
     "name": "stderr",
     "output_type": "stream",
     "text": [
      "\n",
      "  | Name  | Type      | Params\n",
      "------------------------------------\n",
      "0 | model | ConfigILM | 16.3 M\n",
      "------------------------------------\n",
      "16.3 M    Trainable params\n",
      "0         Non-trainable params\n",
      "16.3 M    Total params\n",
      "65.279    Total estimated model params size (MB)\n"
     ]
    },
    {
     "name": "stdout",
     "output_type": "stream",
     "text": [
      "Loading ThroughputTest data for train...\n",
      "         512 QA-pairs indexed\n",
      "         512 QA-pairs used\n",
      "Loading ThroughputTest data for val...\n",
      "         512 QA-pairs indexed\n",
      "         512 QA-pairs used\n",
      "  Total training samples:      512  Total validation samples:      512\n",
      "Epoch 0: 100%|██████████████████████████████████████████████████████████████████████████████████████████████████████████████████████████████████████████████████████████████| 16/16 [00:09<00:00,  1.75it/s]\n",
      "Validation: |                                                                                                                                                                         | 0/? [00:00<?, ?it/s]\u001B[A\n",
      "Validation:   0%|                                                                                                                                                                    | 0/16 [00:00<?, ?it/s]\u001B[A\n",
      "Validation DataLoader 0:   0%|                                                                                                                                                       | 0/16 [00:00<?, ?it/s]\u001B[A\n",
      "Validation DataLoader 0:   6%|████████▉                                                                                                                                      | 1/16 [00:00<00:03,  3.81it/s]\u001B[A\n",
      "Validation DataLoader 0:  12%|█████████████████▉                                                                                                                             | 2/16 [00:00<00:03,  4.38it/s]\u001B[A\n",
      "Validation DataLoader 0:  19%|██████████████████████████▊                                                                                                                    | 3/16 [00:00<00:02,  4.77it/s]\u001B[A\n",
      "Validation DataLoader 0:  25%|███████████████████████████████████▊                                                                                                           | 4/16 [00:00<00:02,  4.85it/s]\u001B[A\n",
      "Validation DataLoader 0:  31%|████████████████████████████████████████████▋                                                                                                  | 5/16 [00:01<00:02,  4.94it/s]\u001B[A\n",
      "Validation DataLoader 0:  38%|█████████████████████████████████████████████████████▋                                                                                         | 6/16 [00:01<00:02,  4.99it/s]\u001B[A\n",
      "Validation DataLoader 0:  44%|██████████████████████████████████████████████████████████████▌                                                                                | 7/16 [00:01<00:01,  5.08it/s]\u001B[A\n",
      "Validation DataLoader 0:  50%|███████████████████████████████████████████████████████████████████████▌                                                                       | 8/16 [00:01<00:01,  5.09it/s]\u001B[A\n",
      "Validation DataLoader 0:  56%|████████████████████████████████████████████████████████████████████████████████▍                                                              | 9/16 [00:01<00:01,  5.14it/s]\u001B[A\n",
      "Validation DataLoader 0:  62%|████████████████████████████████████████████████████████████████████████████████████████▊                                                     | 10/16 [00:01<00:01,  5.16it/s]\u001B[A\n",
      "Validation DataLoader 0:  69%|█████████████████████████████████████████████████████████████████████████████████████████████████▋                                            | 11/16 [00:02<00:00,  5.17it/s]\u001B[A\n",
      "Validation DataLoader 0:  75%|██████████████████████████████████████████████████████████████████████████████████████████████████████████▌                                   | 12/16 [00:02<00:00,  5.16it/s]\u001B[A\n",
      "Validation DataLoader 0:  81%|███████████████████████████████████████████████████████████████████████████████████████████████████████████████████▍                          | 13/16 [00:02<00:00,  5.18it/s]\u001B[A\n",
      "Validation DataLoader 0:  88%|████████████████████████████████████████████████████████████████████████████████████████████████████████████████████████████▎                 | 14/16 [00:02<00:00,  5.19it/s]\u001B[A\n",
      "Validation DataLoader 0:  94%|█████████████████████████████████████████████████████████████████████████████████████████████████████████████████████████████████████▏        | 15/16 [00:02<00:00,  5.19it/s]\u001B[A\n",
      "Validation DataLoader 0: 100%|██████████████████████████████████████████████████████████████████████████████████████████████████████████████████████████████████████████████| 16/16 [00:03<00:00,  5.21it/s]\u001B[A\n",
      "Epoch 1: 100%|██████████████████████████████████████████████████████████████████████████████████████████████████████████████████████████████████████████████████████████████| 16/16 [00:10<00:00,  1.55it/s]\u001B[A\n",
      "Validation: |                                                                                                                                                                         | 0/? [00:00<?, ?it/s]\u001B[A\n",
      "Validation:   0%|                                                                                                                                                                    | 0/16 [00:00<?, ?it/s]\u001B[A\n",
      "Validation DataLoader 0:   0%|                                                                                                                                                       | 0/16 [00:00<?, ?it/s]\u001B[A\n",
      "Validation DataLoader 0:   6%|████████▉                                                                                                                                      | 1/16 [00:00<00:03,  3.85it/s]\u001B[A\n",
      "Validation DataLoader 0:  12%|█████████████████▉                                                                                                                             | 2/16 [00:00<00:03,  4.08it/s]\u001B[A\n",
      "Validation DataLoader 0:  19%|██████████████████████████▊                                                                                                                    | 3/16 [00:00<00:03,  4.06it/s]\u001B[A\n",
      "Validation DataLoader 0:  25%|███████████████████████████████████▊                                                                                                           | 4/16 [00:01<00:03,  3.96it/s]\u001B[A\n",
      "Validation DataLoader 0:  31%|████████████████████████████████████████████▋                                                                                                  | 5/16 [00:01<00:02,  3.95it/s]\u001B[A\n",
      "Validation DataLoader 0:  38%|█████████████████████████████████████████████████████▋                                                                                         | 6/16 [00:01<00:02,  3.91it/s]\u001B[A\n",
      "Validation DataLoader 0:  44%|██████████████████████████████████████████████████████████████▌                                                                                | 7/16 [00:01<00:02,  3.85it/s]\u001B[A\n",
      "Validation DataLoader 0:  50%|███████████████████████████████████████████████████████████████████████▌                                                                       | 8/16 [00:02<00:02,  3.85it/s]\u001B[A\n",
      "Validation DataLoader 0:  56%|████████████████████████████████████████████████████████████████████████████████▍                                                              | 9/16 [00:02<00:01,  3.84it/s]\u001B[A\n",
      "Validation DataLoader 0:  62%|████████████████████████████████████████████████████████████████████████████████████████▊                                                     | 10/16 [00:02<00:01,  3.85it/s]\u001B[A\n",
      "Validation DataLoader 0:  69%|█████████████████████████████████████████████████████████████████████████████████████████████████▋                                            | 11/16 [00:02<00:01,  3.85it/s]\u001B[A\n",
      "Validation DataLoader 0:  75%|██████████████████████████████████████████████████████████████████████████████████████████████████████████▌                                   | 12/16 [00:03<00:01,  3.83it/s]\u001B[A\n",
      "Validation DataLoader 0:  81%|███████████████████████████████████████████████████████████████████████████████████████████████████████████████████▍                          | 13/16 [00:03<00:00,  3.82it/s]\u001B[A\n",
      "Validation DataLoader 0:  88%|████████████████████████████████████████████████████████████████████████████████████████████████████████████████████████████▎                 | 14/16 [00:03<00:00,  3.83it/s]\u001B[A\n",
      "Validation DataLoader 0:  94%|█████████████████████████████████████████████████████████████████████████████████████████████████████████████████████████████████████▏        | 15/16 [00:03<00:00,  3.83it/s]\u001B[A\n",
      "Validation DataLoader 0: 100%|██████████████████████████████████████████████████████████████████████████████████████████████████████████████████████████████████████████████| 16/16 [00:04<00:00,  3.84it/s]\u001B[A\n",
      "Epoch 2: 100%|██████████████████████████████████████████████████████████████████████████████████████████████████████████████████████████████████████████████████████████████| 16/16 [00:13<00:00,  1.15it/s]\u001B[A\n",
      "Validation: |                                                                                                                                                                         | 0/? [00:00<?, ?it/s]\u001B[A\n",
      "Validation:   0%|                                                                                                                                                                    | 0/16 [00:00<?, ?it/s]\u001B[A\n",
      "Validation DataLoader 0:   0%|                                                                                                                                                       | 0/16 [00:00<?, ?it/s]\u001B[A\n",
      "Validation DataLoader 0:   6%|████████▉                                                                                                                                      | 1/16 [00:00<00:05,  2.82it/s]\u001B[A\n",
      "Validation DataLoader 0:  12%|█████████████████▉                                                                                                                             | 2/16 [00:00<00:06,  2.08it/s]\u001B[A\n",
      "Validation DataLoader 0:  19%|██████████████████████████▊                                                                                                                    | 3/16 [00:01<00:06,  2.05it/s]\u001B[A\n",
      "Validation DataLoader 0:  25%|███████████████████████████████████▊                                                                                                           | 4/16 [00:01<00:05,  2.22it/s]\u001B[A\n",
      "Validation DataLoader 0:  31%|████████████████████████████████████████████▋                                                                                                  | 5/16 [00:02<00:04,  2.32it/s]\u001B[A\n",
      "Validation DataLoader 0:  38%|█████████████████████████████████████████████████████▋                                                                                         | 6/16 [00:02<00:04,  2.39it/s]\u001B[A\n",
      "Validation DataLoader 0:  44%|██████████████████████████████████████████████████████████████▌                                                                                | 7/16 [00:02<00:03,  2.47it/s]\u001B[A\n",
      "Validation DataLoader 0:  50%|███████████████████████████████████████████████████████████████████████▌                                                                       | 8/16 [00:03<00:03,  2.53it/s]\u001B[A\n",
      "Validation DataLoader 0:  56%|████████████████████████████████████████████████████████████████████████████████▍                                                              | 9/16 [00:03<00:02,  2.60it/s]\u001B[A\n",
      "Validation DataLoader 0:  62%|████████████████████████████████████████████████████████████████████████████████████████▊                                                     | 10/16 [00:03<00:02,  2.63it/s]\u001B[A\n",
      "Validation DataLoader 0:  69%|█████████████████████████████████████████████████████████████████████████████████████████████████▋                                            | 11/16 [00:04<00:01,  2.63it/s]\u001B[A\n",
      "Validation DataLoader 0:  75%|██████████████████████████████████████████████████████████████████████████████████████████████████████████▌                                   | 12/16 [00:04<00:01,  2.50it/s]\u001B[A\n",
      "Validation DataLoader 0:  81%|███████████████████████████████████████████████████████████████████████████████████████████████████████████████████▍                          | 13/16 [00:05<00:01,  2.53it/s]\u001B[A\n",
      "Validation DataLoader 0:  88%|████████████████████████████████████████████████████████████████████████████████████████████████████████████████████████████▎                 | 14/16 [00:05<00:00,  2.56it/s]\u001B[A\n",
      "Validation DataLoader 0:  94%|█████████████████████████████████████████████████████████████████████████████████████████████████████████████████████████████████████▏        | 15/16 [00:05<00:00,  2.55it/s]\u001B[A\n",
      "Validation DataLoader 0: 100%|██████████████████████████████████████████████████████████████████████████████████████████████████████████████████████████████████████████████| 16/16 [00:06<00:00,  2.38it/s]\u001B[A\n",
      "Epoch 3: 100%|██████████████████████████████████████████████████████████████████████████████████████████████████████████████████████████████████████████████████████████████| 16/16 [00:16<00:00,  0.97it/s]\u001B[A\n",
      "Validation: |                                                                                                                                                                         | 0/? [00:00<?, ?it/s]\u001B[A\n",
      "Validation:   0%|                                                                                                                                                                    | 0/16 [00:00<?, ?it/s]\u001B[A\n",
      "Validation DataLoader 0:   0%|                                                                                                                                                       | 0/16 [00:00<?, ?it/s]\u001B[A\n",
      "Validation DataLoader 0:   6%|████████▉                                                                                                                                      | 1/16 [00:00<00:04,  3.33it/s]\u001B[A\n",
      "Validation DataLoader 0:  12%|█████████████████▉                                                                                                                             | 2/16 [00:00<00:04,  3.44it/s]\u001B[A\n",
      "Validation DataLoader 0:  19%|██████████████████████████▊                                                                                                                    | 3/16 [00:00<00:03,  3.40it/s]\u001B[A\n",
      "Validation DataLoader 0:  25%|███████████████████████████████████▊                                                                                                           | 4/16 [00:01<00:03,  3.35it/s]\u001B[A\n",
      "Validation DataLoader 0:  31%|████████████████████████████████████████████▋                                                                                                  | 5/16 [00:01<00:03,  3.26it/s]\u001B[A\n",
      "Validation DataLoader 0:  38%|█████████████████████████████████████████████████████▋                                                                                         | 6/16 [00:01<00:03,  3.28it/s]\u001B[A\n",
      "Validation DataLoader 0:  44%|██████████████████████████████████████████████████████████████▌                                                                                | 7/16 [00:02<00:02,  3.23it/s]\u001B[A\n",
      "Validation DataLoader 0:  50%|███████████████████████████████████████████████████████████████████████▌                                                                       | 8/16 [00:02<00:02,  3.25it/s]\u001B[A\n",
      "Validation DataLoader 0:  56%|████████████████████████████████████████████████████████████████████████████████▍                                                              | 9/16 [00:02<00:02,  3.25it/s]\u001B[A\n",
      "Validation DataLoader 0:  62%|████████████████████████████████████████████████████████████████████████████████████████▊                                                     | 10/16 [00:03<00:01,  3.25it/s]\u001B[A\n",
      "Validation DataLoader 0:  69%|█████████████████████████████████████████████████████████████████████████████████████████████████▋                                            | 11/16 [00:03<00:01,  3.25it/s]\u001B[A\n",
      "Validation DataLoader 0:  75%|██████████████████████████████████████████████████████████████████████████████████████████████████████████▌                                   | 12/16 [00:03<00:01,  3.26it/s]\u001B[A\n",
      "Validation DataLoader 0:  81%|███████████████████████████████████████████████████████████████████████████████████████████████████████████████████▍                          | 13/16 [00:03<00:00,  3.25it/s]\u001B[A\n",
      "Validation DataLoader 0:  88%|████████████████████████████████████████████████████████████████████████████████████████████████████████████████████████████▎                 | 14/16 [00:04<00:00,  3.24it/s]\u001B[A\n",
      "Validation DataLoader 0:  94%|█████████████████████████████████████████████████████████████████████████████████████████████████████████████████████████████████████▏        | 15/16 [00:04<00:00,  3.22it/s]\u001B[A\n",
      "Validation DataLoader 0: 100%|██████████████████████████████████████████████████████████████████████████████████████████████████████████████████████████████████████████████| 16/16 [00:04<00:00,  3.22it/s]\u001B[A\n",
      "Epoch 3: 100%|██████████████████████████████████████████████████████████████████████████████████████████████████████████████████████████████████████████████████████████████| 16/16 [00:21<00:00,  0.74it/s]\u001B[A"
     ]
    },
    {
     "name": "stderr",
     "output_type": "stream",
     "text": [
      "`Trainer.fit` stopped: `max_epochs=4` reached.\n"
     ]
    },
    {
     "name": "stdout",
     "output_type": "stream",
     "text": [
      "Epoch 3: 100%|██████████████████████████████████████████████████████████████████████████████████████████████████████████████████████████████████████████████████████████████| 16/16 [00:22<00:00,  0.73it/s]\n"
     ]
    }
   ],
   "source": [
    "# remove-output\n",
    "import time\n",
    "start = time.time()\n",
    "trainer.test(model, datamodule=dm)\n",
    "end = time.time()"
   ]
  },
  {
   "cell_type": "code",
   "outputs": [],
   "source": [
    "print(f\"Throughput: {dm.num_samples / (end - start):.3f} samples per second\")\n",
    "print(f\"Time per sample: {(end - start) / dm.num_samples * 1000:.1f} milli-seconds\")\n",
    "print(f\"Total time: {end - start:.3f} seconds\")"
   ],
   "metadata": {
    "collapsed": false
   },
   "id": "a070a4a566c9d601"
  },
  {
   "cell_type": "markdown",
   "source": [
    "We can compare this now with a different model configuration. For example, we can change the image model to a larger one and see how the throughput changes."
   ],
   "metadata": {
    "collapsed": false
   },
   "id": "67923cb42ccb7a27"
  },
  {
   "cell_type": "code",
   "outputs": [],
   "source": [
    "# remove-output\n",
    "model_config = ILMConfiguration(\n",
    "    timm_model_name=\"resnet34\",\n",
    "    hf_model_name=text_model_name,\n",
    "    classes=classes,\n",
    "    image_size=image_size,\n",
    "    channels=number_of_channels,\n",
    "    network_type=ILMType.VQA_CLASSIFICATION,\n",
    "    max_sequence_length=seq_len,\n",
    ")\n",
    "model = LitVQAEncoder(config=model_config, lr=lr)\n",
    "start = time.time()\n",
    "trainer.test(model, datamodule=dm)\n",
    "end = time.time()"
   ],
   "metadata": {
    "collapsed": false
   },
   "id": "c2c1a09fda83246e"
  },
  {
   "cell_type": "code",
   "outputs": [],
   "source": [
    "print(f\"Throughput: {dm.num_samples / (end - start):.3f} samples per second\")\n",
    "print(f\"Time per sample: {(end - start) / dm.num_samples * 1000:.1f} milli-seconds\")\n",
    "print(f\"Total time: {end - start:.3f} seconds\")"
   ],
   "metadata": {
    "collapsed": false
   },
   "id": "81e8bfcba9f16816"
  },
  {
   "cell_type": "markdown",
   "source": [
    ":::{note}\n",
    "For reliable results, it is important to run the throughput test on a machine with no other significant load. The results can vary significantly depending on the hardware and the number of workers used in the DataLoader. The tests should also be run multiple times and the results averaged to get a reliable estimate of the throughput even on a quiet machine.\n",
    ":::"
   ],
   "metadata": {
    "collapsed": false
   },
   "id": "55e1f87abb2eefd6"
  }
 ],
 "metadata": {
  "kernelspec": {
   "display_name": "Python 3 (ipykernel)",
   "language": "python",
   "name": "python3"
  },
  "language_info": {
   "codemirror_mode": {
    "name": "ipython",
    "version": 3
   },
   "file_extension": ".py",
   "mimetype": "text/x-python",
   "name": "python",
   "nbconvert_exporter": "python",
   "pygments_lexer": "ipython3",
   "version": "3.10.12"
  }
 },
 "nbformat": 4,
 "nbformat_minor": 5
}
