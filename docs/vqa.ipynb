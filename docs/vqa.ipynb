{
 "cells": [
  {
   "cell_type": "markdown",
   "source": [
    "# Visual Question Answering (VQA)\n",
    "The Framework is set up in way, that it is easy to combine an image model from the [timm](https://github.com/huggingface/pytorch-image-models/tree/main/timm/models) library with a language model from [huggingface](https://huggingface.co/). For both models, either pre-trained weights can be used or the models can be trained as a composite in an end-to-end fashion.\n",
    "For this example usage we will be using the [`RSVQAxBEN DataModule`](extra/rsvqaxben.ipynb) which loads the *RSVQAxBEN* dataset published by {cite:t}`rsvqaxben` inside a [`pytorch lightning`](https://pytorch-lightning.readthedocs.io/en/stable/) trainer. The network will be integrated into a [`LightningModule`](https://pytorch-lightning.readthedocs.io/en/stable/common/lightning_module.html)."
   ],
   "metadata": {
    "collapsed": false
   }
  },
  {
   "cell_type": "markdown",
   "source": [
    "First we start by importing the needed packages from `torch` and `pytorch_lightning` so that we can set up the `LightningModule`."
   ],
   "metadata": {
    "collapsed": false
   }
  },
  {
   "cell_type": "code",
   "execution_count": 1,
   "metadata": {
    "collapsed": true,
    "ExecuteTime": {
     "start_time": "2023-04-12T17:03:55.647501Z",
     "end_time": "2023-04-12T17:03:57.450258Z"
    }
   },
   "outputs": [
    {
     "name": "stderr",
     "output_type": "stream",
     "text": [
      "/home/lhackel/Documents/development/ConfigVLM/.venv/lib/python3.10/site-packages/tqdm/auto.py:21: TqdmWarning: IProgress not found. Please update jupyter and ipywidgets. See https://ipywidgets.readthedocs.io/en/stable/user_install.html\n",
      "  from .autonotebook import tqdm as notebook_tqdm\n"
     ]
    }
   ],
   "source": [
    "# remove-output\n",
    "# import packages\n",
    "import pytorch_lightning as pl\n",
    "import torch\n",
    "import torch.nn.functional as F\n",
    "from torch import optim\n",
    "\n",
    "from configilm import ConfigILM"
   ]
  },
  {
   "cell_type": "markdown",
   "source": [
    "## Pytorch Lightning Module\n",
    "The `Module` we use to encapsulate the model divides the usual loop into functions that are called internally by `pytorch_lightning`. The necessary functions are just\n",
    "1. `training_step` and\n",
    "2. `configure_optimizer`,\n",
    "\n",
    "but to have a fully functional script, we add the validation and test steps as well as evaluation of the validation and test results. All `*_step` functions are working on a single batch while `*_epoch_end` functions are called after all batches are used and are passed a list of all return values of their respective `*_step` functions.\n",
    "For Visual Question Answering (VQA) we have to add one additional function, as the network works with 3 values (image + language input, output) instead of the usual 2 (input, output). Therefore we add a function (here called `_disassemble_batch`), which disassembles the batch into input and output where the _input contains both modalities_."
   ],
   "metadata": {
    "collapsed": false
   }
  },
  {
   "cell_type": "code",
   "execution_count": 2,
   "outputs": [],
   "source": [
    "class LitVQAEncoder(pl.LightningModule):\n",
    "    \"\"\"\n",
    "    Wrapper around a pytorch module, allowing this module to be used in automatic\n",
    "    training with pytorch lightning.\n",
    "    Among other things, the wrapper allows us to do automatic training and removes the\n",
    "    need to manage data on different devices (e.g. GPU and CPU).\n",
    "    \"\"\"\n",
    "    def __init__(\n",
    "        self,\n",
    "        config: ConfigILM.ILMConfiguration,\n",
    "        lr: float = 1e-3,\n",
    "    ):\n",
    "        super().__init__()\n",
    "        self.lr = lr\n",
    "        self.config = config\n",
    "        self.model = ConfigILM.ConfigILM(config)\n",
    "\n",
    "    def _disassemble_batch(self, batch):\n",
    "        images, questions, labels = batch\n",
    "        # transposing tensor, needed for Huggingface-Dataloader combination\n",
    "        questions = torch.tensor(\n",
    "            [x.tolist() for x in questions], device=self.device\n",
    "        ).T.int()\n",
    "        return (images, questions), labels\n",
    "\n",
    "    def training_step(self, batch, batch_idx):\n",
    "        x, y = self._disassemble_batch(batch)\n",
    "        x_hat = self.model(x)\n",
    "        loss = F.binary_cross_entropy_with_logits(x_hat, y)\n",
    "        self.log(\"train/loss\", loss)\n",
    "        return {\"loss\": loss}\n",
    "\n",
    "    def configure_optimizers(self):\n",
    "        optimizer = optim.AdamW(self.parameters(), lr=self.lr, weight_decay=0.01)\n",
    "        return optimizer\n",
    "\n",
    "    # ============== NON-MANDATORY-FUNCTION ===============\n",
    "\n",
    "    def validation_step(self, batch, batch_idx):\n",
    "        x, y = self._disassemble_batch(batch)\n",
    "        x_hat = self.model(x)\n",
    "        loss = F.binary_cross_entropy_with_logits(x_hat, y)\n",
    "        return {\"loss\": loss, \"outputs\": x_hat, \"labels\": y}\n",
    "\n",
    "    def validation_epoch_end(self, outputs):\n",
    "        avg_loss = torch.stack([x[\"loss\"] for x in outputs]).mean()\n",
    "        self.log(\"val/loss\", avg_loss)\n",
    "\n",
    "    def test_step(self, batch, batch_idx):\n",
    "        x, y = self._disassemble_batch(batch)\n",
    "        x_hat = self.model(x)\n",
    "        loss = F.binary_cross_entropy_with_logits(x_hat, y)\n",
    "        return {\"loss\": loss, \"outputs\": x_hat, \"labels\": y}\n",
    "\n",
    "    def test_epoch_end(self, outputs):\n",
    "        avg_loss = torch.stack([x[\"loss\"] for x in outputs]).mean()\n",
    "        self.log(\"test/loss\", avg_loss)\n",
    "\n",
    "    def forward(self, batch):\n",
    "        # because we are a wrapper, we call the inner function manually\n",
    "        return self.model(batch)"
   ],
   "metadata": {
    "collapsed": false,
    "ExecuteTime": {
     "start_time": "2023-04-12T17:03:57.450545Z",
     "end_time": "2023-04-12T17:03:57.454888Z"
    }
   }
  },
  {
   "cell_type": "markdown",
   "source": [
    "## Configuring\n",
    "Now that we have our model, we will use the `pytorch_lightning.Trainer` to run our loops. Results are logged to `tensorboard`.\n",
    "\n",
    "We start by importing some callbacks used during training"
   ],
   "metadata": {
    "collapsed": false
   }
  },
  {
   "cell_type": "code",
   "execution_count": 3,
   "outputs": [],
   "source": [
    "from configilm.ConfigILM import ILMConfiguration, ILMType"
   ],
   "metadata": {
    "collapsed": false,
    "ExecuteTime": {
     "start_time": "2023-04-12T17:03:57.456176Z",
     "end_time": "2023-04-12T17:03:57.458568Z"
    }
   }
  },
  {
   "cell_type": "markdown",
   "source": [
    "as well as defining our hyperparameters."
   ],
   "metadata": {
    "collapsed": false
   }
  },
  {
   "cell_type": "code",
   "execution_count": 4,
   "outputs": [],
   "source": [
    "image_model_name = \"resnet18\"\n",
    "text_model_name = \"prajjwal1/bert-tiny\"\n",
    "seed = 42\n",
    "number_of_channels = 12\n",
    "image_size = 120\n",
    "epochs = 4\n",
    "lr = 5e-4"
   ],
   "metadata": {
    "collapsed": false,
    "ExecuteTime": {
     "start_time": "2023-04-12T17:03:57.460181Z",
     "end_time": "2023-04-12T17:03:57.461723Z"
    }
   }
  },
  {
   "cell_type": "markdown",
   "source": [
    "Then we create the configuration for usage in model creation later."
   ],
   "metadata": {
    "collapsed": false
   }
  },
  {
   "cell_type": "code",
   "execution_count": 5,
   "outputs": [
    {
     "name": "stderr",
     "output_type": "stream",
     "text": [
      "Global seed set to 42\n"
     ]
    }
   ],
   "source": [
    "# remove-output\n",
    "# seed for pytorch, numpy, python.random, Dataloader workers, spawned subprocesses\n",
    "pl.seed_everything(seed, workers=True)\n",
    "\n",
    "model_config = ILMConfiguration(\n",
    "    timm_model_name=image_model_name,\n",
    "    hf_model_name=text_model_name,  # different to pre-training\n",
    "    classes=1000,  # different to pre-training\n",
    "    image_size=image_size,\n",
    "    channels=number_of_channels,\n",
    "    network_type=ILMType.VQA_CLASSIFICATION  # different to pre-training\n",
    ")"
   ],
   "metadata": {
    "collapsed": false,
    "ExecuteTime": {
     "start_time": "2023-04-12T17:03:57.463109Z",
     "end_time": "2023-04-12T17:03:57.465915Z"
    }
   }
  },
  {
   "cell_type": "markdown",
   "source": [
    "We log the hyperparameters and create a [Trainer](https://pytorch-lightning.readthedocs.io/en/stable/common/trainer.html)."
   ],
   "metadata": {
    "collapsed": false
   }
  },
  {
   "cell_type": "code",
   "execution_count": 6,
   "outputs": [
    {
     "name": "stderr",
     "output_type": "stream",
     "text": [
      "/home/lhackel/Documents/development/ConfigVLM/.venv/lib/python3.10/site-packages/torch/cuda/__init__.py:546: UserWarning: Can't initialize NVML\n",
      "  warnings.warn(\"Can't initialize NVML\")\n",
      "GPU available: True (cuda), used: True\n",
      "TPU available: False, using: 0 TPU cores\n",
      "IPU available: False, using: 0 IPUs\n",
      "HPU available: False, using: 0 HPUs\n"
     ]
    }
   ],
   "source": [
    "# remove-output\n",
    "trainer = pl.Trainer(\n",
    "    max_epochs=epochs,\n",
    "    accelerator=\"auto\",\n",
    "    log_every_n_steps=1,\n",
    "    logger=False,\n",
    ")"
   ],
   "metadata": {
    "collapsed": false,
    "ExecuteTime": {
     "start_time": "2023-04-12T17:03:57.468002Z",
     "end_time": "2023-04-12T17:03:57.562508Z"
    }
   }
  },
  {
   "cell_type": "markdown",
   "source": [
    "## Creating Model + Dataset\n",
    "Finally, we create the model defined above and our datamodule. We will be using a datamodule from this framework described in the Extra section.\n",
    "\n",
    "::: {note}\n",
    "We get a user warning here that 'image_size' is not known as a keyword. This is expected as most Convolutional Neural Networks (CNNs) (just as the resnet here) operate independently of the image size of the input\n",
    ":::"
   ],
   "metadata": {
    "collapsed": false
   }
  },
  {
   "cell_type": "code",
   "execution_count": 7,
   "outputs": [],
   "source": [
    "# remove-input\n",
    "# remove-output\n",
    "import pathlib\n",
    "my_data_path = str(pathlib.Path(\"\").resolve().parent.joinpath(\"configilm\").joinpath(\"extra\").joinpath(\"mock_data\").resolve(strict=True))\n",
    "# set precision on Ampere cards to bfloat16\n",
    "torch.set_float32_matmul_precision('medium')"
   ],
   "metadata": {
    "collapsed": false,
    "ExecuteTime": {
     "start_time": "2023-04-12T17:03:57.555648Z",
     "end_time": "2023-04-12T17:03:57.562737Z"
    }
   }
  },
  {
   "cell_type": "code",
   "execution_count": 8,
   "outputs": [
    {
     "name": "stderr",
     "output_type": "stream",
     "text": [
      "/home/lhackel/Documents/development/ConfigVLM/configilm/ConfigILM.py:131: UserWarning: Keyword 'img_size' unknown. Trying to ignore and restart creation.\n",
      "  warnings.warn(\n",
      "Some weights of the model checkpoint at /home/lhackel/.cache/configilm/pretrained_models/huggingface_models/prajjwal1/bert-tiny were not used when initializing BertModel: ['classifier.bias', 'classifier.weight']\n",
      "- This IS expected if you are initializing BertModel from the checkpoint of a model trained on another task or with another architecture (e.g. initializing a BertForSequenceClassification model from a BertForPreTraining model).\n",
      "- This IS NOT expected if you are initializing BertModel from the checkpoint of a model that you expect to be exactly identical (initializing a BertForSequenceClassification model from a BertForSequenceClassification model).\n"
     ]
    },
    {
     "name": "stdout",
     "output_type": "stream",
     "text": [
      "Dataloader using 4 workers\n",
      "\n",
      "\u001B[96mHINT: pin_memory set to None \u001B[0m\n"
     ]
    },
    {
     "name": "stderr",
     "output_type": "stream",
     "text": [
      "/home/lhackel/Documents/development/ConfigVLM/configilm/ConfigILM.py:115: UserWarning: Tokenizer was initialized pretrained\n",
      "  warnings.warn(\"Tokenizer was initialized pretrained\")\n"
     ]
    }
   ],
   "source": [
    "from configilm.extra.RSVQAxBEN_DataModule_LMDB_Encoder import RSVQAxBENDataModule\n",
    "model = LitVQAEncoder(config=model_config, lr=lr)\n",
    "dm = RSVQAxBENDataModule(\n",
    "    data_dir=my_data_path,  # path to dataset\n",
    "    img_size=(number_of_channels, image_size, image_size),\n",
    "    num_workers_dataloader=4,\n",
    "    tokenizer = model.model.get_tokenizer()\n",
    ")"
   ],
   "metadata": {
    "collapsed": false,
    "ExecuteTime": {
     "start_time": "2023-04-12T17:03:57.556057Z",
     "end_time": "2023-04-12T17:03:57.801791Z"
    }
   }
  },
  {
   "cell_type": "markdown",
   "source": [
    "## Running\n",
    "Now we just have to call the `fit()` and optionally the `test()` functions.\n",
    "\n",
    ":::{note}\n",
    "These calls generate quite a bit of output depending on the number of batches and epochs. The output is removed for readability.\n",
    ":::"
   ],
   "metadata": {
    "collapsed": false
   }
  },
  {
   "cell_type": "code",
   "execution_count": 9,
   "outputs": [
    {
     "name": "stdout",
     "output_type": "stream",
     "text": [
      "(17:03:57) Datamodule setup called\n",
      "Loading split RSVQAxBEN data for train...\n",
      "              25 QA-pairs indexed\n",
      "              25 QA-pairs in reduced data set\n"
     ]
    },
    {
     "name": "stderr",
     "output_type": "stream",
     "text": [
      "Counting Answers: 100%|██████████| 25/25 [00:00<00:00, 651289.44it/s]\n"
     ]
    },
    {
     "name": "stdout",
     "output_type": "stream",
     "text": [
      "\n",
      "\u001B[93mWARNING: There are fewer possible answers then requested (1000 requested, but 4 found).\u001B[0m\n",
      "The 1000 most frequent answers cover about 100.00 % of the total answers.\n"
     ]
    },
    {
     "name": "stderr",
     "output_type": "stream",
     "text": [
      "Converting to NP arrays: 100%|██████████| 25/25 [00:00<00:00, 832203.17it/s]\n"
     ]
    },
    {
     "name": "stdout",
     "output_type": "stream",
     "text": [
      "Loading split RSVQAxBEN data for val...\n",
      "              25 QA-pairs indexed\n",
      "              25 QA-pairs in reduced data set\n"
     ]
    },
    {
     "name": "stderr",
     "output_type": "stream",
     "text": [
      "Converting to NP arrays: 100%|██████████| 25/25 [00:00<00:00, 537731.28it/s]\n",
      "/home/lhackel/Documents/development/ConfigVLM/.venv/lib/python3.10/site-packages/pytorch_lightning/callbacks/model_checkpoint.py:613: UserWarning: Checkpoint directory /home/lhackel/Documents/development/ConfigVLM/docs/checkpoints exists and is not empty.\n",
      "  rank_zero_warn(f\"Checkpoint directory {dirpath} exists and is not empty.\")\n"
     ]
    },
    {
     "name": "stdout",
     "output_type": "stream",
     "text": [
      "setup took 0.00 seconds\n",
      "  Total training samples:       25  Total validation samples:       25\n"
     ]
    },
    {
     "name": "stderr",
     "output_type": "stream",
     "text": [
      "LOCAL_RANK: 0 - CUDA_VISIBLE_DEVICES: [0]\n",
      "\n",
      "  | Name  | Type      | Params\n",
      "------------------------------------\n",
      "0 | model | ConfigILM | 16.6 M\n",
      "------------------------------------\n",
      "16.6 M    Trainable params\n",
      "0         Non-trainable params\n",
      "16.6 M    Total params\n",
      "66.281    Total estimated model params size (MB)\n"
     ]
    },
    {
     "name": "stdout",
     "output_type": "stream",
     "text": [
      "Epoch 0:  50%|█████     | 2/4 [00:00<00:00,  5.31it/s, loss=0.691]         \n",
      "Validation: 0it [00:00, ?it/s]\u001B[A\n",
      "Validation:   0%|          | 0/2 [00:00<?, ?it/s]\u001B[A\n",
      "Validation DataLoader 0:   0%|          | 0/2 [00:00<?, ?it/s]\u001B[A\n",
      "Epoch 0:  75%|███████▌  | 3/4 [00:00<00:00,  5.02it/s, loss=0.691]t/s]\u001B[A\n",
      "Epoch 0: 100%|██████████| 4/4 [00:00<00:00,  6.59it/s, loss=0.691]t/s]\u001B[A\n",
      "Epoch 1:  50%|█████     | 2/4 [00:00<00:00,  7.02it/s, loss=0.683]    \u001B[A\n",
      "Validation: 0it [00:00, ?it/s]\u001B[A\n",
      "Validation:   0%|          | 0/2 [00:00<?, ?it/s]\u001B[A\n",
      "Validation DataLoader 0:   0%|          | 0/2 [00:00<?, ?it/s]\u001B[A\n",
      "Epoch 1:  75%|███████▌  | 3/4 [00:00<00:00,  5.64it/s, loss=0.683]t/s]\u001B[A\n",
      "Epoch 1: 100%|██████████| 4/4 [00:00<00:00,  7.38it/s, loss=0.683]t/s]\u001B[A\n",
      "Epoch 2:  50%|█████     | 2/4 [00:00<00:00,  6.67it/s, loss=0.666]    \u001B[A\n",
      "Validation: 0it [00:00, ?it/s]\u001B[A\n",
      "Validation:   0%|          | 0/2 [00:00<?, ?it/s]\u001B[A\n",
      "Validation DataLoader 0:   0%|          | 0/2 [00:00<?, ?it/s]\u001B[A\n",
      "Epoch 2:  75%|███████▌  | 3/4 [00:00<00:00,  5.65it/s, loss=0.666]it/s]\u001B[A\n",
      "Epoch 2: 100%|██████████| 4/4 [00:00<00:00,  7.38it/s, loss=0.666]it/s]\u001B[A\n",
      "Epoch 3:  50%|█████     | 2/4 [00:00<00:00,  6.41it/s, loss=0.639]     \u001B[A\n",
      "Validation: 0it [00:00, ?it/s]\u001B[A\n",
      "Validation:   0%|          | 0/2 [00:00<?, ?it/s]\u001B[A\n",
      "Validation DataLoader 0:   0%|          | 0/2 [00:00<?, ?it/s]\u001B[A\n",
      "Epoch 3:  75%|███████▌  | 3/4 [00:00<00:00,  5.56it/s, loss=0.639]it/s]\u001B[A\n",
      "Epoch 3: 100%|██████████| 4/4 [00:00<00:00,  7.28it/s, loss=0.639]it/s]\u001B[A\n",
      "Epoch 3: 100%|██████████| 4/4 [00:00<00:00,  7.25it/s, loss=0.639]     \u001B[A"
     ]
    },
    {
     "name": "stderr",
     "output_type": "stream",
     "text": [
      "`Trainer.fit` stopped: `max_epochs=4` reached.\n"
     ]
    },
    {
     "name": "stdout",
     "output_type": "stream",
     "text": [
      "Epoch 3: 100%|██████████| 4/4 [00:00<00:00,  4.88it/s, loss=0.639]\n"
     ]
    }
   ],
   "source": [
    "# remove-output\n",
    "trainer.fit(model, datamodule=dm)"
   ],
   "metadata": {
    "collapsed": false,
    "ExecuteTime": {
     "start_time": "2023-04-12T17:03:57.803283Z",
     "end_time": "2023-04-12T17:04:03.260332Z"
    }
   }
  },
  {
   "cell_type": "code",
   "execution_count": 10,
   "outputs": [
    {
     "name": "stdout",
     "output_type": "stream",
     "text": [
      "(17:04:03) Datamodule setup called\n",
      "Loading split RSVQAxBEN data for test...\n",
      "              25 QA-pairs indexed\n",
      "              25 QA-pairs in reduced data set\n"
     ]
    },
    {
     "name": "stderr",
     "output_type": "stream",
     "text": [
      "Converting to NP arrays: 100%|██████████| 25/25 [00:00<00:00, 89392.67it/s]\n"
     ]
    },
    {
     "name": "stdout",
     "output_type": "stream",
     "text": [
      "setup took 0.00 seconds\n",
      "  Total test samples:       25\n"
     ]
    },
    {
     "name": "stderr",
     "output_type": "stream",
     "text": [
      "LOCAL_RANK: 0 - CUDA_VISIBLE_DEVICES: [0]\n"
     ]
    },
    {
     "name": "stdout",
     "output_type": "stream",
     "text": [
      "Testing DataLoader 0: 100%|██████████| 2/2 [00:00<00:00, 105.71it/s]\n"
     ]
    },
    {
     "data": {
      "text/plain": "┏━━━━━━━━━━━━━━━━━━━━━━━━━━━┳━━━━━━━━━━━━━━━━━━━━━━━━━━━┓\n┃\u001B[1m \u001B[0m\u001B[1m       Test metric       \u001B[0m\u001B[1m \u001B[0m┃\u001B[1m \u001B[0m\u001B[1m      DataLoader 0       \u001B[0m\u001B[1m \u001B[0m┃\n┡━━━━━━━━━━━━━━━━━━━━━━━━━━━╇━━━━━━━━━━━━━━━━━━━━━━━━━━━┩\n│\u001B[36m \u001B[0m\u001B[36m        test/loss        \u001B[0m\u001B[36m \u001B[0m│\u001B[35m \u001B[0m\u001B[35m   0.5321515798568726    \u001B[0m\u001B[35m \u001B[0m│\n└───────────────────────────┴───────────────────────────┘\n",
      "text/html": "<pre style=\"white-space:pre;overflow-x:auto;line-height:normal;font-family:Menlo,'DejaVu Sans Mono',consolas,'Courier New',monospace\">┏━━━━━━━━━━━━━━━━━━━━━━━━━━━┳━━━━━━━━━━━━━━━━━━━━━━━━━━━┓\n┃<span style=\"font-weight: bold\">        Test metric        </span>┃<span style=\"font-weight: bold\">       DataLoader 0        </span>┃\n┡━━━━━━━━━━━━━━━━━━━━━━━━━━━╇━━━━━━━━━━━━━━━━━━━━━━━━━━━┩\n│<span style=\"color: #008080; text-decoration-color: #008080\">         test/loss         </span>│<span style=\"color: #800080; text-decoration-color: #800080\">    0.5321515798568726     </span>│\n└───────────────────────────┴───────────────────────────┘\n</pre>\n"
     },
     "metadata": {},
     "output_type": "display_data"
    },
    {
     "data": {
      "text/plain": "[{'test/loss': 0.5321515798568726}]"
     },
     "execution_count": 10,
     "metadata": {},
     "output_type": "execute_result"
    }
   ],
   "source": [
    "# remove-output\n",
    "trainer.test(model, datamodule=dm)"
   ],
   "metadata": {
    "collapsed": false,
    "ExecuteTime": {
     "start_time": "2023-04-12T17:04:03.262143Z",
     "end_time": "2023-04-12T17:04:03.696435Z"
    }
   }
  },
  {
   "cell_type": "markdown",
   "source": [
    "Here is an example forward call for the model. Since the input is normalized, the colors are slightly distorted. To display the image anyway, we select only the RGB channels and normalize this image to the range 0 to 1.\n",
    "The input question is already returned by the dataset in the form of tokens, so we decode here again using the tokenizer. To make the input always the same size it may be padded.\n",
    "Additionally only the first 10 elements of output + expected answer are shown, as the full lists have 1000 elements."
   ],
   "metadata": {
    "collapsed": false
   }
  },
  {
   "cell_type": "code",
   "execution_count": 11,
   "outputs": [
    {
     "data": {
      "text/plain": "<Figure size 640x480 with 1 Axes>",
      "image/png": "[encoded data removed]"
     },
     "metadata": {},
     "output_type": "display_data"
    },
    {
     "name": "stdout",
     "output_type": "stream",
     "text": [
      "    Text: [CLS] are forests and heterogeneous agricultural areas present? [SEP] [PAD] [PAD] [PAD] [PAD] [PAD] [PAD] [PAD] [PAD] [PAD] [PAD] [PAD] [PAD] [PAD] [PAD] [PAD] [PAD] [PAD] [PAD] [PAD]\n",
      "Question: [101, 2024, 6138, 1998, 21770, 10624, 6914, 14769, 4910, 2752, 2556, 1029, 102, 0, 0, 0, 0, 0, 0, 0, 0, 0, 0, 0, 0, 0, 0, 0, 0, 0, 0, 0]\n",
      "Expected: [1.0, 0.0, 0.0, 0.0, 0.0, 0.0, 0.0, 0.0, 0.0, 0.0]\n",
      "          yes\n",
      "    Real: [0.19730114936828613, -0.27804067730903625, -0.6265844106674194, -0.7894783020019531, -1.1344362497329712, -0.3690703809261322, 0.4347025156021118, -1.2634257078170776, -0.39677560329437256, -0.797954797744751]\n",
      "          yes\n"
     ]
    }
   ],
   "source": [
    "# remove-input\n",
    "import matplotlib.pyplot as plt\n",
    "\n",
    "v, q, a = dm.val_ds[9]\n",
    "# only choose BGR axis for display and bring into RGB order\n",
    "# only needed for displaying\n",
    "img_display = torch.flip(v[:3], [0])\n",
    "img_display -= torch.min(img_display)\n",
    "img_display /= torch.max(img_display)\n",
    "\n",
    "_ = plt.imshow(img_display.permute(1, 2, 0))\n",
    "plt.axis('off')\n",
    "plt.show()\n",
    "\n",
    "# add batch dimension\n",
    "v_in = v.unsqueeze(0)\n",
    "q_in = torch.tensor(q).unsqueeze(0)\n",
    "\n",
    "# forward call, only use first result (batch size 1)\n",
    "result = model((v_in, q_in))[0]\n",
    "\n",
    "print(f\"    Text: {dm.val_ds.tokenizer.decode(q)}\")\n",
    "print(f\"Question: {q}\")\n",
    "print(f\"Expected: {a.tolist()[:10]}\")\n",
    "print(f\"          {dm.val_ds.selected_answers[a.argmax()]}\")\n",
    "print(f\"    Real: {result.tolist()[:10]}\")\n",
    "print(f\"          {dm.val_ds.selected_answers[a.argmax()]}\")"
   ],
   "metadata": {
    "collapsed": false,
    "ExecuteTime": {
     "start_time": "2023-04-12T17:04:03.692291Z",
     "end_time": "2023-04-12T17:04:04.073314Z"
    }
   }
  }
 ],
 "metadata": {
  "kernelspec": {
   "display_name": "Python 3",
   "language": "python",
   "name": "python3"
  },
  "language_info": {
   "codemirror_mode": {
    "name": "ipython",
    "version": 2
   },
   "file_extension": ".py",
   "mimetype": "text/x-python",
   "name": "python",
   "nbconvert_exporter": "python",
   "pygments_lexer": "ipython2",
   "version": "2.7.6"
  }
 },
 "nbformat": 4,
 "nbformat_minor": 0
}
